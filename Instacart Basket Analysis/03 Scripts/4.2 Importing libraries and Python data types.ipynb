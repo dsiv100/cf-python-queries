{
 "cells": [
  {
   "cell_type": "markdown",
   "id": "e5481148-1e5a-48d9-a342-7ef04bdd56ec",
   "metadata": {},
   "source": [
    "# 01. Importing libraries"
   ]
  },
  {
   "cell_type": "code",
   "execution_count": 1,
   "id": "a785f533-25db-49c3-aedc-715abb958f7a",
   "metadata": {},
   "outputs": [],
   "source": [
    "# Import libraries\n",
    "import pandas as pd\n",
    "import numpy as np\n",
    "import os"
   ]
  },
  {
   "cell_type": "markdown",
   "id": "d46b1661-23ef-4e25-b333-0bdafac29dd5",
   "metadata": {},
   "source": [
    "# 02. Working with Python Data Types\n"
   ]
  },
  {
   "cell_type": "code",
   "execution_count": 4,
   "id": "1babcb20-b337-415c-ae3b-94263e5462d7",
   "metadata": {},
   "outputs": [
    {
     "data": {
      "text/plain": [
       "100"
      ]
     },
     "execution_count": 4,
     "metadata": {},
     "output_type": "execute_result"
    }
   ],
   "source": [
    "x = 50\n",
    "y = 50\n",
    "x+y"
   ]
  },
  {
   "cell_type": "code",
   "execution_count": 5,
   "id": "3f0d5707-baef-410f-aa97-e984d1b8c706",
   "metadata": {},
   "outputs": [
    {
     "data": {
      "text/plain": [
       "100"
      ]
     },
     "execution_count": 5,
     "metadata": {},
     "output_type": "execute_result"
    }
   ],
   "source": [
    "x = 133\n",
    "y = 33\n",
    "x-y"
   ]
  },
  {
   "cell_type": "code",
   "execution_count": 6,
   "id": "72a5a6b3-20a0-4ac8-8bbc-18eaeb0713ea",
   "metadata": {},
   "outputs": [
    {
     "data": {
      "text/plain": [
       "100"
      ]
     },
     "execution_count": 6,
     "metadata": {},
     "output_type": "execute_result"
    }
   ],
   "source": [
    "x = 30\n",
    "y = 20\n",
    "z = 50\n",
    "x+y+z"
   ]
  },
  {
   "cell_type": "code",
   "execution_count": 7,
   "id": "3582b8b8-9b05-4d71-bdd9-e21da03b2ddd",
   "metadata": {},
   "outputs": [
    {
     "data": {
      "text/plain": [
       "5.0"
      ]
     },
     "execution_count": 7,
     "metadata": {},
     "output_type": "execute_result"
    }
   ],
   "source": [
    "x = 2.5\n",
    "y = 0.5\n",
    "x / y"
   ]
  },
  {
   "cell_type": "code",
   "execution_count": 8,
   "id": "d0998150-2d5d-4b9f-b6fe-89fa3ee9c1b1",
   "metadata": {},
   "outputs": [
    {
     "data": {
      "text/plain": [
       "2.2035714285714287"
      ]
     },
     "execution_count": 8,
     "metadata": {},
     "output_type": "execute_result"
    }
   ],
   "source": [
    "x = 12.34\n",
    "y = 5.6\n",
    "x / y"
   ]
  },
  {
   "cell_type": "code",
   "execution_count": 9,
   "id": "66b82923-bdd6-429b-ae4f-6c7be2b323f3",
   "metadata": {},
   "outputs": [
    {
     "data": {
      "text/plain": [
       "'hello'"
      ]
     },
     "execution_count": 9,
     "metadata": {},
     "output_type": "execute_result"
    }
   ],
   "source": [
    "h = 'h'\n",
    "e = 'e'\n",
    "double_l = 'll'\n",
    "o = 'o'\n",
    "h + e + double_l + o"
   ]
  },
  {
   "cell_type": "code",
   "execution_count": 13,
   "id": "f78857c7-d9ee-4526-b734-f0a3111a917c",
   "metadata": {},
   "outputs": [
    {
     "name": "stdout",
     "output_type": "stream",
     "text": [
      "This is a sentence.\n",
      "Here is another one.\n"
     ]
    }
   ],
   "source": [
    "x = 'This is '\n",
    "y = 'a sentence.'\n",
    "\n",
    "a = 'Here is '\n",
    "b = 'another one.'\n",
    "\n",
    "print(x+y)\n",
    "print(a+b)"
   ]
  },
  {
   "cell_type": "code",
   "execution_count": null,
   "id": "b5ac6324-1d71-40aa-8c55-25edbc1179e2",
   "metadata": {},
   "outputs": [],
   "source": []
  }
 ],
 "metadata": {
  "kernelspec": {
   "display_name": "Python 3 (ipykernel)",
   "language": "python",
   "name": "python3"
  },
  "language_info": {
   "codemirror_mode": {
    "name": "ipython",
    "version": 3
   },
   "file_extension": ".py",
   "mimetype": "text/x-python",
   "name": "python",
   "nbconvert_exporter": "python",
   "pygments_lexer": "ipython3",
   "version": "3.11.7"
  }
 },
 "nbformat": 4,
 "nbformat_minor": 5
}
