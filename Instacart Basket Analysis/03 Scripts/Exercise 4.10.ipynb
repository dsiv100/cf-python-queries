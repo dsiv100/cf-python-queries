{
 "cells": [
  {
   "cell_type": "markdown",
   "id": "d7df2206-2cd5-4f00-a0cf-b10f1ff3cc99",
   "metadata": {},
   "source": [
    "# Achievement 4 Final Project"
   ]
  },
  {
   "cell_type": "code",
   "execution_count": 2,
   "id": "2da64194-36fe-4e53-8dc1-314975f01b40",
   "metadata": {},
   "outputs": [],
   "source": [
    "#Importing libraries\n",
    "import pandas as pd\n",
    "import numpy as np\n",
    "import os\n",
    "import matplotlib.pyplot as plt\n",
    "import seaborn as sns\n",
    "import scipy"
   ]
  },
  {
   "cell_type": "code",
   "execution_count": 4,
   "id": "448efb0c-6675-403e-bcc1-c887303c8a91",
   "metadata": {},
   "outputs": [
    {
     "data": {
      "text/plain": [
       "(30964564, 36)"
      ]
     },
     "execution_count": 4,
     "metadata": {},
     "output_type": "execute_result"
    }
   ],
   "source": [
    "#Importing Data\n",
    "path = r'C:\\Users\\dylan\\Documents\\Instacart Basket Analysis'\n",
    "\n",
    "\n",
    "customers_merged = pd.read_pickle(os.path.join(path, '02 Data', 'Prepared Data', 'customers_merged.pkl'))\n",
    "customers_merged.head()"
   ]
  },
  {
   "cell_type": "markdown",
   "id": "6ac4e2db-e4bd-4cfb-b1cc-0e59b03d49da",
   "metadata": {},
   "source": [
    "## First name and surname could all be personal data that could be removed."
   ]
  },
  {
   "cell_type": "code",
   "execution_count": 16,
   "id": "dce00330-e9c0-41f6-9aee-74e19da6a5db",
   "metadata": {},
   "outputs": [
    {
     "data": {
      "text/html": [
       "<div>\n",
       "<style scoped>\n",
       "    .dataframe tbody tr th:only-of-type {\n",
       "        vertical-align: middle;\n",
       "    }\n",
       "\n",
       "    .dataframe tbody tr th {\n",
       "        vertical-align: top;\n",
       "    }\n",
       "\n",
       "    .dataframe thead th {\n",
       "        text-align: right;\n",
       "    }\n",
       "</style>\n",
       "<table border=\"1\" class=\"dataframe\">\n",
       "  <thead>\n",
       "    <tr style=\"text-align: right;\">\n",
       "      <th></th>\n",
       "      <th>order_id</th>\n",
       "      <th>user_id</th>\n",
       "      <th>eval_set</th>\n",
       "      <th>order_number</th>\n",
       "      <th>order_dow</th>\n",
       "      <th>hour_of_order</th>\n",
       "      <th>days_since_prior_order</th>\n",
       "      <th>product_id</th>\n",
       "      <th>add_to_cart_order</th>\n",
       "      <th>reordered</th>\n",
       "      <th>...</th>\n",
       "      <th>median_days</th>\n",
       "      <th>frequency_flag</th>\n",
       "      <th>Gender</th>\n",
       "      <th>STATE</th>\n",
       "      <th>Age</th>\n",
       "      <th>date_joined</th>\n",
       "      <th>n_dependants</th>\n",
       "      <th>fam_status</th>\n",
       "      <th>income</th>\n",
       "      <th>exist</th>\n",
       "    </tr>\n",
       "  </thead>\n",
       "  <tbody>\n",
       "    <tr>\n",
       "      <th>0</th>\n",
       "      <td>2539329</td>\n",
       "      <td>1</td>\n",
       "      <td>prior</td>\n",
       "      <td>1</td>\n",
       "      <td>2</td>\n",
       "      <td>8</td>\n",
       "      <td>NaN</td>\n",
       "      <td>196</td>\n",
       "      <td>1</td>\n",
       "      <td>0</td>\n",
       "      <td>...</td>\n",
       "      <td>NaN</td>\n",
       "      <td>nan</td>\n",
       "      <td>Female</td>\n",
       "      <td>Alabama</td>\n",
       "      <td>31</td>\n",
       "      <td>2/17/2019</td>\n",
       "      <td>3</td>\n",
       "      <td>married</td>\n",
       "      <td>40423</td>\n",
       "      <td>both</td>\n",
       "    </tr>\n",
       "    <tr>\n",
       "      <th>1</th>\n",
       "      <td>2398795</td>\n",
       "      <td>1</td>\n",
       "      <td>prior</td>\n",
       "      <td>2</td>\n",
       "      <td>3</td>\n",
       "      <td>7</td>\n",
       "      <td>15.0</td>\n",
       "      <td>196</td>\n",
       "      <td>1</td>\n",
       "      <td>1</td>\n",
       "      <td>...</td>\n",
       "      <td>20.5</td>\n",
       "      <td>Non-frequent customer</td>\n",
       "      <td>Female</td>\n",
       "      <td>Alabama</td>\n",
       "      <td>31</td>\n",
       "      <td>2/17/2019</td>\n",
       "      <td>3</td>\n",
       "      <td>married</td>\n",
       "      <td>40423</td>\n",
       "      <td>both</td>\n",
       "    </tr>\n",
       "    <tr>\n",
       "      <th>2</th>\n",
       "      <td>473747</td>\n",
       "      <td>1</td>\n",
       "      <td>prior</td>\n",
       "      <td>3</td>\n",
       "      <td>3</td>\n",
       "      <td>12</td>\n",
       "      <td>21.0</td>\n",
       "      <td>196</td>\n",
       "      <td>1</td>\n",
       "      <td>1</td>\n",
       "      <td>...</td>\n",
       "      <td>13.0</td>\n",
       "      <td>Regular customer</td>\n",
       "      <td>Female</td>\n",
       "      <td>Alabama</td>\n",
       "      <td>31</td>\n",
       "      <td>2/17/2019</td>\n",
       "      <td>3</td>\n",
       "      <td>married</td>\n",
       "      <td>40423</td>\n",
       "      <td>both</td>\n",
       "    </tr>\n",
       "    <tr>\n",
       "      <th>3</th>\n",
       "      <td>2254736</td>\n",
       "      <td>1</td>\n",
       "      <td>prior</td>\n",
       "      <td>4</td>\n",
       "      <td>4</td>\n",
       "      <td>7</td>\n",
       "      <td>29.0</td>\n",
       "      <td>196</td>\n",
       "      <td>1</td>\n",
       "      <td>1</td>\n",
       "      <td>...</td>\n",
       "      <td>10.0</td>\n",
       "      <td>Frequent customer</td>\n",
       "      <td>Female</td>\n",
       "      <td>Alabama</td>\n",
       "      <td>31</td>\n",
       "      <td>2/17/2019</td>\n",
       "      <td>3</td>\n",
       "      <td>married</td>\n",
       "      <td>40423</td>\n",
       "      <td>both</td>\n",
       "    </tr>\n",
       "    <tr>\n",
       "      <th>4</th>\n",
       "      <td>431534</td>\n",
       "      <td>1</td>\n",
       "      <td>prior</td>\n",
       "      <td>5</td>\n",
       "      <td>4</td>\n",
       "      <td>15</td>\n",
       "      <td>28.0</td>\n",
       "      <td>196</td>\n",
       "      <td>1</td>\n",
       "      <td>1</td>\n",
       "      <td>...</td>\n",
       "      <td>20.0</td>\n",
       "      <td>Regular customer</td>\n",
       "      <td>Female</td>\n",
       "      <td>Alabama</td>\n",
       "      <td>31</td>\n",
       "      <td>2/17/2019</td>\n",
       "      <td>3</td>\n",
       "      <td>married</td>\n",
       "      <td>40423</td>\n",
       "      <td>both</td>\n",
       "    </tr>\n",
       "  </tbody>\n",
       "</table>\n",
       "<p>5 rows × 30 columns</p>\n",
       "</div>"
      ],
      "text/plain": [
       "   order_id  user_id eval_set  order_number  order_dow  hour_of_order  \\\n",
       "0   2539329        1    prior             1          2              8   \n",
       "1   2398795        1    prior             2          3              7   \n",
       "2    473747        1    prior             3          3             12   \n",
       "3   2254736        1    prior             4          4              7   \n",
       "4    431534        1    prior             5          4             15   \n",
       "\n",
       "   days_since_prior_order  product_id  add_to_cart_order  reordered  ...  \\\n",
       "0                     NaN         196                  1          0  ...   \n",
       "1                    15.0         196                  1          1  ...   \n",
       "2                    21.0         196                  1          1  ...   \n",
       "3                    29.0         196                  1          1  ...   \n",
       "4                    28.0         196                  1          1  ...   \n",
       "\n",
       "  median_days         frequency_flag  Gender    STATE  Age date_joined  \\\n",
       "0         NaN                    nan  Female  Alabama   31   2/17/2019   \n",
       "1        20.5  Non-frequent customer  Female  Alabama   31   2/17/2019   \n",
       "2        13.0       Regular customer  Female  Alabama   31   2/17/2019   \n",
       "3        10.0      Frequent customer  Female  Alabama   31   2/17/2019   \n",
       "4        20.0       Regular customer  Female  Alabama   31   2/17/2019   \n",
       "\n",
       "   n_dependants fam_status  income exist  \n",
       "0             3    married   40423  both  \n",
       "1             3    married   40423  both  \n",
       "2             3    married   40423  both  \n",
       "3             3    married   40423  both  \n",
       "4             3    married   40423  both  \n",
       "\n",
       "[5 rows x 30 columns]"
      ]
     },
     "execution_count": 16,
     "metadata": {},
     "output_type": "execute_result"
    }
   ],
   "source": [
    "#Dropping private columns\n",
    "customers_new = customers_merged.drop(columns = ['First Name', 'Surnam'])\n",
    "customers_new.head()"
   ]
  },
  {
   "cell_type": "code",
   "execution_count": 20,
   "id": "bd903678-cd47-46db-916d-e4f973d65fdb",
   "metadata": {},
   "outputs": [
    {
     "data": {
      "text/plain": [
       "STATE\n",
       "Pennsylvania            667082\n",
       "California              659783\n",
       "Rhode Island            656913\n",
       "Georgia                 656389\n",
       "New Mexico              654494\n",
       "Arizona                 653964\n",
       "North Carolina          651900\n",
       "Oklahoma                651739\n",
       "Alaska                  648495\n",
       "Minnesota               647825\n",
       "Massachusetts           646358\n",
       "Wyoming                 644255\n",
       "Virginia                641421\n",
       "Missouri                640732\n",
       "Texas                   640394\n",
       "Colorado                639280\n",
       "Maine                   638583\n",
       "North Dakota            638491\n",
       "Alabama                 638003\n",
       "Kansas                  637538\n",
       "Louisiana               637482\n",
       "Delaware                637024\n",
       "South Carolina          636754\n",
       "Oregon                  636425\n",
       "Arkansas                636144\n",
       "Nevada                  636139\n",
       "New York                635983\n",
       "Montana                 635265\n",
       "South Dakota            633772\n",
       "Illinois                633024\n",
       "Hawaii                  632901\n",
       "Washington              632852\n",
       "Mississippi             632675\n",
       "Kentucky                632490\n",
       "Michigan                630928\n",
       "Florida                 629027\n",
       "Ohio                    628319\n",
       "Wisconsin               628108\n",
       "New Jersey              627692\n",
       "Indiana                 627282\n",
       "Maryland                626579\n",
       "Nebraska                625813\n",
       "Iowa                    625493\n",
       "Connecticut             623022\n",
       "Tennessee               617873\n",
       "New Hampshire           615378\n",
       "District of Columbia    613695\n",
       "West Virginia           612296\n",
       "Utah                    611941\n",
       "Vermont                 611725\n",
       "Idaho                   607119\n",
       "Name: count, dtype: int64"
      ]
     },
     "execution_count": 20,
     "metadata": {},
     "output_type": "execute_result"
    }
   ],
   "source": [
    "customers_new['STATE'].value_counts(dropna=False)"
   ]
  },
  {
   "cell_type": "code",
   "execution_count": 17,
   "id": "b2f71650-32cd-46f4-aaf7-7486beaf0c62",
   "metadata": {},
   "outputs": [
    {
     "data": {
      "text/plain": [
       "region\n",
       "South        10791885\n",
       "West          8292913\n",
       "Midwest       7597325\n",
       "Northeast     5722736\n",
       "Name: count, dtype: int64"
      ]
     },
     "execution_count": 17,
     "metadata": {},
     "output_type": "execute_result"
    }
   ],
   "source": [
    "#Creating region column\n",
    "region1 = ['Maine', 'New Hampshire', 'Vermont', 'Massachusetts', 'Rhode Island', 'Connecticut', 'New York', 'Pennsylvania', 'New Jersey']\n",
    "region2 = ['Wisconsin', 'Michigan', 'Illinois', 'Indiana', 'Ohio', 'North Dakota', 'South Dakota', 'Nebraska', 'Kansas', 'Minnesota', 'Iowa', 'Missouri']\n",
    "region3 = ['Delaware', 'Maryland', 'District of Columbia', 'Virginia', 'West Virginia', 'North Carolina', 'South Carolina', 'Georgia', 'Florida', 'Kentucky', 'Tennessee', 'Mississippi', 'Alabama', 'Oklahoma', 'Texas', 'Arkansas', 'Louisiana']\n",
    "region4 = ['Idaho', 'Montana', 'Wyoming', 'Nevada', 'Utah', 'Colorado', 'Arizona', 'New Mexico', 'Alaska', 'Washington', 'Oregon', 'California', 'Hawaii']\n",
    "\n",
    "customers_new.loc[customers_new['STATE'].isin(region1), 'region'] = 'Northeast'\n",
    "customers_new.loc[customers_new['STATE'].isin(region2), 'region'] = 'Midwest'\n",
    "customers_new.loc[customers_new['STATE'].isin(region3), 'region'] = 'South'\n",
    "customers_new.loc[customers_new['STATE'].isin(region4), 'region'] = 'West'\n",
    "\n",
    "customers_new['region'].value_counts(dropna=False)"
   ]
  },
  {
   "cell_type": "code",
   "execution_count": 21,
   "id": "d34de14c-5c7a-4adb-9e7d-4cff0efb5660",
   "metadata": {},
   "outputs": [
    {
     "data": {
      "text/html": [
       "<div>\n",
       "<style scoped>\n",
       "    .dataframe tbody tr th:only-of-type {\n",
       "        vertical-align: middle;\n",
       "    }\n",
       "\n",
       "    .dataframe tbody tr th {\n",
       "        vertical-align: top;\n",
       "    }\n",
       "\n",
       "    .dataframe thead th {\n",
       "        text-align: right;\n",
       "    }\n",
       "</style>\n",
       "<table border=\"1\" class=\"dataframe\">\n",
       "  <thead>\n",
       "    <tr style=\"text-align: right;\">\n",
       "      <th>region</th>\n",
       "      <th>Midwest</th>\n",
       "      <th>Northeast</th>\n",
       "      <th>South</th>\n",
       "      <th>West</th>\n",
       "    </tr>\n",
       "    <tr>\n",
       "      <th>spending_flag</th>\n",
       "      <th></th>\n",
       "      <th></th>\n",
       "      <th></th>\n",
       "      <th></th>\n",
       "    </tr>\n",
       "  </thead>\n",
       "  <tbody>\n",
       "    <tr>\n",
       "      <th>High spender</th>\n",
       "      <td>1269</td>\n",
       "      <td>915</td>\n",
       "      <td>1787</td>\n",
       "      <td>1386</td>\n",
       "    </tr>\n",
       "    <tr>\n",
       "      <th>Low spender</th>\n",
       "      <td>47412</td>\n",
       "      <td>35138</td>\n",
       "      <td>66232</td>\n",
       "      <td>52070</td>\n",
       "    </tr>\n",
       "    <tr>\n",
       "      <th>nan</th>\n",
       "      <td>7548644</td>\n",
       "      <td>5686683</td>\n",
       "      <td>10723866</td>\n",
       "      <td>8239457</td>\n",
       "    </tr>\n",
       "  </tbody>\n",
       "</table>\n",
       "</div>"
      ],
      "text/plain": [
       "region         Midwest  Northeast     South     West\n",
       "spending_flag                                       \n",
       "High spender      1269        915      1787     1386\n",
       "Low spender      47412      35138     66232    52070\n",
       "nan            7548644    5686683  10723866  8239457"
      ]
     },
     "execution_count": 21,
     "metadata": {},
     "output_type": "execute_result"
    }
   ],
   "source": [
    "#Creating crosstab for spending habits\n",
    "spending_habits = pd.crosstab(customers_new['spending_flag'], customers_new['region'], dropna=False)\n",
    "spending_habits"
   ]
  },
  {
   "cell_type": "markdown",
   "id": "db92f234-ffee-4e63-b72c-ac4226b23495",
   "metadata": {},
   "source": [
    "## The south has the highest number of high spenders, but it also has the most low spenders which would imply that it is due to general population. "
   ]
  },
  {
   "cell_type": "code",
   "execution_count": 22,
   "id": "50ced809-1d35-41cb-8a6a-834efca9eba3",
   "metadata": {},
   "outputs": [],
   "source": [
    "#Creating exclusion flag\n",
    "customers_new.loc[customers_new['max_order'] >= 5, 'exclusion_flag'] = 'Normal-activity'\n",
    "customers_new.loc[customers_new['max_order'] < 5, 'exclusion_flag'] = 'Low-activity'"
   ]
  },
  {
   "cell_type": "code",
   "execution_count": 23,
   "id": "af81bb9b-b72a-4325-bc69-f968e8b44fc8",
   "metadata": {},
   "outputs": [
    {
     "data": {
      "text/plain": [
       "exclusion_flag\n",
       "Normal-activity    30964564\n",
       "Low-activity        1440295\n",
       "Name: count, dtype: int64"
      ]
     },
     "execution_count": 23,
     "metadata": {},
     "output_type": "execute_result"
    }
   ],
   "source": [
    "customers_new['exclusion_flag'].value_counts(dropna=False)"
   ]
  },
  {
   "cell_type": "code",
   "execution_count": 24,
   "id": "1fb61084-1269-46be-b335-9573766182e6",
   "metadata": {},
   "outputs": [],
   "source": [
    "#Excluding low-activity customers and exporting\n",
    "customers_normal = customers_new[customers_new['exclusion_flag'] == 'Normal-activity']\n",
    "\n",
    "customers_normal.to_pickle(os.path.join(path, '02 Data', 'Prepared Data', 'normal_activity_customers.pkl'))"
   ]
  },
  {
   "cell_type": "code",
   "execution_count": 27,
   "id": "8db7025c-3d6d-4331-8673-fa4957c5e7dd",
   "metadata": {},
   "outputs": [
    {
     "data": {
      "text/plain": [
       "Index(['order_id', 'user_id', 'eval_set', 'order_number', 'order_dow',\n",
       "       'hour_of_order', 'days_since_prior_order', 'product_id',\n",
       "       'add_to_cart_order', 'reordered', '_merge', 'product_name', 'aisle_id',\n",
       "       'department_id', 'prices', 'exists', 'max_order', 'loyalty_flag',\n",
       "       'avg_prod_price', 'spending_flag', 'median_days', 'frequency_flag',\n",
       "       'Gender', 'STATE', 'Age', 'date_joined', 'n_dependants', 'fam_status',\n",
       "       'income', 'exist', 'region', 'exclusion_flag'],\n",
       "      dtype='object')"
      ]
     },
     "execution_count": 27,
     "metadata": {},
     "output_type": "execute_result"
    }
   ],
   "source": [
    "customers_normal.columns"
   ]
  },
  {
   "cell_type": "code",
   "execution_count": 29,
   "id": "5773ded2-61e3-4085-89ca-d379b5f1a35c",
   "metadata": {},
   "outputs": [
    {
     "data": {
      "text/plain": [
       "count    3.096456e+07\n",
       "mean     4.946803e+01\n",
       "std      1.848528e+01\n",
       "min      1.800000e+01\n",
       "25%      3.300000e+01\n",
       "50%      4.900000e+01\n",
       "75%      6.500000e+01\n",
       "max      8.100000e+01\n",
       "Name: Age, dtype: float64"
      ]
     },
     "execution_count": 29,
     "metadata": {},
     "output_type": "execute_result"
    }
   ],
   "source": [
    "#Profiling for age\n",
    "customers_normal['Age'].describe()"
   ]
  },
  {
   "cell_type": "code",
   "execution_count": 36,
   "id": "a0e4ced4-4aba-4d12-a4f7-4548275adbf4",
   "metadata": {},
   "outputs": [
    {
     "name": "stderr",
     "output_type": "stream",
     "text": [
      "C:\\Users\\dylan\\AppData\\Local\\Temp\\ipykernel_3496\\2482992440.py:1: SettingWithCopyWarning: \n",
      "A value is trying to be set on a copy of a slice from a DataFrame.\n",
      "Try using .loc[row_indexer,col_indexer] = value instead\n",
      "\n",
      "See the caveats in the documentation: https://pandas.pydata.org/pandas-docs/stable/user_guide/indexing.html#returning-a-view-versus-a-copy\n",
      "  customers_normal.loc[(customers_normal['Age'] >= 18) & (customers_normal['Age'] < 30), 'age_group'] = 'Young adult'\n"
     ]
    },
    {
     "data": {
      "text/plain": [
       "age_group\n",
       "Middle-aged    15034354\n",
       "Elderly        10112607\n",
       "Young adult     5817603\n",
       "Name: count, dtype: int64"
      ]
     },
     "execution_count": 36,
     "metadata": {},
     "output_type": "execute_result"
    }
   ],
   "source": [
    "customers_normal.loc[(customers_normal['Age'] >= 18) & (customers_normal['Age'] < 30), 'age_group'] = 'Young adult'\n",
    "customers_normal.loc[(customers_normal['Age'] >= 30) & (customers_normal['Age'] < 61), 'age_group'] = 'Middle-aged'\n",
    "customers_normal.loc[customers_normal['Age'] >= 61, 'age_group'] = 'Elderly'\n",
    "\n",
    "customers_normal['age_group'].value_counts(dropna=False)"
   ]
  },
  {
   "cell_type": "code",
   "execution_count": 34,
   "id": "f15a43dc-0e7a-4ca4-b0ee-b0e103f79853",
   "metadata": {},
   "outputs": [
    {
     "data": {
      "text/plain": [
       "count    3.096456e+07\n",
       "mean     9.967587e+04\n",
       "std      4.314187e+04\n",
       "min      2.590300e+04\n",
       "25%      6.729200e+04\n",
       "50%      9.676500e+04\n",
       "75%      1.281020e+05\n",
       "max      5.939010e+05\n",
       "Name: income, dtype: float64"
      ]
     },
     "execution_count": 34,
     "metadata": {},
     "output_type": "execute_result"
    }
   ],
   "source": [
    "#Profiling for income\n",
    "customers_normal['income'].describe()"
   ]
  },
  {
   "cell_type": "code",
   "execution_count": 37,
   "id": "567a2a27-75e2-41bf-a34d-89dcc0fc6fa6",
   "metadata": {},
   "outputs": [
    {
     "name": "stderr",
     "output_type": "stream",
     "text": [
      "C:\\Users\\dylan\\AppData\\Local\\Temp\\ipykernel_3496\\3364110048.py:1: SettingWithCopyWarning: \n",
      "A value is trying to be set on a copy of a slice from a DataFrame.\n",
      "Try using .loc[row_indexer,col_indexer] = value instead\n",
      "\n",
      "See the caveats in the documentation: https://pandas.pydata.org/pandas-docs/stable/user_guide/indexing.html#returning-a-view-versus-a-copy\n",
      "  customers_normal.loc[customers_normal['income'] <= 67292, 'income_group'] = 'Low income'\n"
     ]
    },
    {
     "data": {
      "text/plain": [
       "income_group\n",
       "Middle income    15482125\n",
       "Low income        7741348\n",
       "High income       7741091\n",
       "Name: count, dtype: int64"
      ]
     },
     "execution_count": 37,
     "metadata": {},
     "output_type": "execute_result"
    }
   ],
   "source": [
    "customers_normal.loc[customers_normal['income'] <= 67292, 'income_group'] = 'Low income'\n",
    "customers_normal.loc[(customers_normal['income'] > 67292) & (customers_normal['income'] <= 128102), 'income_group'] = 'Middle income'\n",
    "customers_normal.loc[customers_normal['income'] > 128102, 'income_group'] = 'High income'\n",
    "\n",
    "customers_normal['income_group'].value_counts(dropna=False)"
   ]
  },
  {
   "cell_type": "code",
   "execution_count": 38,
   "id": "a87d8648-8d60-4a6d-9a36-903b0f0ae70a",
   "metadata": {},
   "outputs": [
    {
     "data": {
      "text/plain": [
       "fam_status\n",
       "married                             21743711\n",
       "single                               5094410\n",
       "divorced/widowed                     2645271\n",
       "living with parents and siblings     1481172\n",
       "Name: count, dtype: int64"
      ]
     },
     "execution_count": 38,
     "metadata": {},
     "output_type": "execute_result"
    }
   ],
   "source": [
    "customers_normal.fam_status.value_counts()"
   ]
  },
  {
   "cell_type": "code",
   "execution_count": 41,
   "id": "745e061e-b38c-42ef-83e5-c41e39e3b7e9",
   "metadata": {},
   "outputs": [
    {
     "data": {
      "text/plain": [
       "customer_profile\n",
       "Single middle-aged adult no children    15034354\n",
       "Single elderly adult no children        10112607\n",
       "Single young adult no children           4336431\n",
       "Single young adult with children         1481172\n",
       "Name: count, dtype: int64"
      ]
     },
     "execution_count": 41,
     "metadata": {},
     "output_type": "execute_result"
    }
   ],
   "source": [
    "#creating profile based on age and family\n",
    "single_group = ['single', 'divorced/widowed', 'living with parents and siblings']\n",
    "\n",
    "customers_normal.loc[(customers_normal['age_group'] == 'Young adult') & (customers_normal['n_dependants'] == 0) & (customers_normal['fam_status'].isin(single_group)), 'customer_profile'] = 'Single young adult no children'\n",
    "customers_normal.loc[(customers_normal['age_group'] == 'Young adult') & (customers_normal['n_dependants'] >= 1) & (customers_normal['fam_status'].isin(single_group)), 'customer_profile'] = 'Single young adult with children'\n",
    "customers_normal.loc[(customers_normal['age_group'] == 'Young adult') & (customers_normal['n_dependants'] == 0) & (customers_normal['fam_status'] == 'married'), 'customer_profile'] = 'Married young adult no children'\n",
    "customers_normal.loc[(customers_normal['age_group'] == 'Young adult') & (customers_normal['n_dependants'] >= 1) & (customers_normal['fam_status'] == 'married'), 'customer_profile'] = 'Single young adult no children'\n",
    "\n",
    "customers_normal.loc[(customers_normal['age_group'] == 'Middle-aged') & (customers_normal['n_dependants'] == 0) & (customers_normal['fam_status'].isin(single_group)), 'customer_profile'] = 'Single middle-aged adult no children'\n",
    "customers_normal.loc[(customers_normal['age_group'] == 'Middle-aged') & (customers_normal['n_dependants'] >= 1) & (customers_normal['fam_status'].isin(single_group)), 'customer_profile'] = 'Single middle-aged adult with children'\n",
    "customers_normal.loc[(customers_normal['age_group'] == 'Middle-aged') & (customers_normal['n_dependants'] == 0) & (customers_normal['fam_status'] == 'married'), 'customer_profile'] = 'Married middle-aged adult no children'\n",
    "customers_normal.loc[(customers_normal['age_group'] == 'Middle-aged') & (customers_normal['n_dependants'] >= 1) & (customers_normal['fam_status'] == 'married'), 'customer_profile'] = 'Single middle-aged adult no children'\n",
    "\n",
    "customers_normal.loc[(customers_normal['age_group'] == 'Elderly') & (customers_normal['n_dependants'] == 0) & (customers_normal['fam_status'].isin(single_group)), 'customer_profile'] = 'Single elderly adult no children'\n",
    "customers_normal.loc[(customers_normal['age_group'] == 'Elderly') & (customers_normal['n_dependants'] >= 1) & (customers_normal['fam_status'].isin(single_group)), 'customer_profile'] = 'Single elderly adult with children'\n",
    "customers_normal.loc[(customers_normal['age_group'] == 'Elderly') & (customers_normal['n_dependants'] == 0) & (customers_normal['fam_status'] == 'married'), 'customer_profile'] = 'Married elderly adult no children'\n",
    "customers_normal.loc[(customers_normal['age_group'] == 'Elderly') & (customers_normal['n_dependants'] >= 1) & (customers_normal['fam_status'] == 'married'), 'customer_profile'] = 'Single elderly adult no children'\n",
    "\n",
    "customers_normal['customer_profile'].value_counts(dropna=False)"
   ]
  },
  {
   "cell_type": "code",
   "execution_count": 48,
   "id": "5d5df584-e365-4429-87a3-fa71eacc1267",
   "metadata": {},
   "outputs": [
    {
     "data": {
      "text/plain": [
       "income_profile\n",
       "Middle-aged adult middle class      7481588\n",
       "Elderly adult middle class          4934612\n",
       "Elderly adult high income           3882214\n",
       "Middle-aged high income             3790895\n",
       "Middle-aged adult low income        3761871\n",
       "Young adult middle class            2266572\n",
       "Young adult low income              2019659\n",
       "Elderly adult low income            1295781\n",
       "Young single parent middle class     799353\n",
       "Young single parent low income       664037\n",
       "Young adult high income               50200\n",
       "Young single parent high income       17782\n",
       "Name: count, dtype: int64"
      ]
     },
     "execution_count": 48,
     "metadata": {},
     "output_type": "execute_result"
    }
   ],
   "source": [
    "#Expanding profile with income\n",
    "customers_normal.loc[(customers_normal['customer_profile'] == 'Single young adult no children') & (customers_normal['income_group'] == 'Low income'), 'income_profile'] = 'Young adult low income'\n",
    "customers_normal.loc[(customers_normal['customer_profile'] == 'Single young adult no children') & (customers_normal['income_group'] == 'Middle income'), 'income_profile'] = 'Young adult middle class'\n",
    "customers_normal.loc[(customers_normal['customer_profile'] == 'Single young adult no children') & (customers_normal['income_group'] == 'High income'), 'income_profile'] = 'Young adult high income'\n",
    "\n",
    "customers_normal.loc[(customers_normal['customer_profile'] == 'Single young adult with children') & (customers_normal['income_group'] == 'Low income'), 'income_profile'] = 'Young single parent low income'\n",
    "customers_normal.loc[(customers_normal['customer_profile'] == 'Single young adult with children') & (customers_normal['income_group'] == 'Middle income'), 'income_profile'] = 'Young single parent middle class'\n",
    "customers_normal.loc[(customers_normal['customer_profile'] == 'Single young adult with children') & (customers_normal['income_group'] == 'High income'), 'income_profile'] = 'Young single parent high income'\n",
    "\n",
    "customers_normal.loc[(customers_normal['customer_profile'] == 'Single middle-aged adult no children') & (customers_normal['income_group'] == 'Low income'), 'income_profile'] = 'Middle-aged adult low income'\n",
    "customers_normal.loc[(customers_normal['customer_profile'] == 'Single middle-aged adult no children') & (customers_normal['income_group'] == 'Middle income'), 'income_profile'] = 'Middle-aged adult middle class'\n",
    "customers_normal.loc[(customers_normal['customer_profile'] == 'Single middle-aged adult no children') & (customers_normal['income_group'] == 'High income'), 'income_profile'] = 'Middle-aged high income'\n",
    "\n",
    "customers_normal.loc[(customers_normal['customer_profile'] == 'Single elderly adult no children') & (customers_normal['income_group'] == 'Low income'), 'income_profile'] = 'Elderly adult low income'\n",
    "customers_normal.loc[(customers_normal['customer_profile'] == 'Single elderly adult no children') & (customers_normal['income_group'] == 'Middle income'), 'income_profile'] = 'Elderly adult middle class'\n",
    "customers_normal.loc[(customers_normal['customer_profile'] == 'Single elderly adult no children') & (customers_normal['income_group'] == 'High income'), 'income_profile'] = 'Elderly adult high income'\n",
    "\n",
    "customers_normal['income_profile'].value_counts(dropna=False)"
   ]
  },
  {
   "cell_type": "code",
   "execution_count": 49,
   "id": "8e100691-07f6-4202-9a52-47aa851f8b55",
   "metadata": {},
   "outputs": [
    {
     "data": {
      "image/png": "[encoded data removed]",
      "text/plain": [
       "<Figure size 640x480 with 1 Axes>"
      ]
     },
     "metadata": {},
     "output_type": "display_data"
    }
   ],
   "source": [
    "#Creating a bar chart for customer profile\n",
    "customer_bar = customers_normal['income_profile'].value_counts().plot.bar()"
   ]
  },
  {
   "cell_type": "markdown",
   "id": "e5f7aea3-df59-462b-a730-9d3a6f729364",
   "metadata": {},
   "source": [
    "## As we can see from the chart, our primary users are middle-aged and older adults that are single."
   ]
  },
  {
   "cell_type": "code",
   "execution_count": 50,
   "id": "26f90322-f29d-4a1b-b77f-7854c77ce726",
   "metadata": {},
   "outputs": [
    {
     "data": {
      "text/html": [
       "<div>\n",
       "<style scoped>\n",
       "    .dataframe tbody tr th:only-of-type {\n",
       "        vertical-align: middle;\n",
       "    }\n",
       "\n",
       "    .dataframe tbody tr th {\n",
       "        vertical-align: top;\n",
       "    }\n",
       "\n",
       "    .dataframe thead tr th {\n",
       "        text-align: left;\n",
       "    }\n",
       "\n",
       "    .dataframe thead tr:last-of-type th {\n",
       "        text-align: right;\n",
       "    }\n",
       "</style>\n",
       "<table border=\"1\" class=\"dataframe\">\n",
       "  <thead>\n",
       "    <tr>\n",
       "      <th></th>\n",
       "      <th colspan=\"3\" halign=\"left\">days_since_prior_order</th>\n",
       "      <th colspan=\"3\" halign=\"left\">prices</th>\n",
       "    </tr>\n",
       "    <tr>\n",
       "      <th></th>\n",
       "      <th>max</th>\n",
       "      <th>mean</th>\n",
       "      <th>min</th>\n",
       "      <th>max</th>\n",
       "      <th>mean</th>\n",
       "      <th>min</th>\n",
       "    </tr>\n",
       "    <tr>\n",
       "      <th>income_profile</th>\n",
       "      <th></th>\n",
       "      <th></th>\n",
       "      <th></th>\n",
       "      <th></th>\n",
       "      <th></th>\n",
       "      <th></th>\n",
       "    </tr>\n",
       "  </thead>\n",
       "  <tbody>\n",
       "    <tr>\n",
       "      <th>Elderly adult high income</th>\n",
       "      <td>30.0</td>\n",
       "      <td>10.695695</td>\n",
       "      <td>0.0</td>\n",
       "      <td>99999.0</td>\n",
       "      <td>17.358909</td>\n",
       "      <td>1.0</td>\n",
       "    </tr>\n",
       "    <tr>\n",
       "      <th>Elderly adult low income</th>\n",
       "      <td>30.0</td>\n",
       "      <td>11.184257</td>\n",
       "      <td>0.0</td>\n",
       "      <td>25.0</td>\n",
       "      <td>6.715031</td>\n",
       "      <td>1.0</td>\n",
       "    </tr>\n",
       "    <tr>\n",
       "      <th>Elderly adult middle class</th>\n",
       "      <td>30.0</td>\n",
       "      <td>10.765040</td>\n",
       "      <td>0.0</td>\n",
       "      <td>99999.0</td>\n",
       "      <td>8.774497</td>\n",
       "      <td>1.0</td>\n",
       "    </tr>\n",
       "    <tr>\n",
       "      <th>Middle-aged adult low income</th>\n",
       "      <td>30.0</td>\n",
       "      <td>10.909726</td>\n",
       "      <td>0.0</td>\n",
       "      <td>14900.0</td>\n",
       "      <td>7.309493</td>\n",
       "      <td>1.0</td>\n",
       "    </tr>\n",
       "    <tr>\n",
       "      <th>Middle-aged adult middle class</th>\n",
       "      <td>30.0</td>\n",
       "      <td>10.770507</td>\n",
       "      <td>0.0</td>\n",
       "      <td>99999.0</td>\n",
       "      <td>9.232977</td>\n",
       "      <td>1.0</td>\n",
       "    </tr>\n",
       "    <tr>\n",
       "      <th>Middle-aged high income</th>\n",
       "      <td>30.0</td>\n",
       "      <td>10.831837</td>\n",
       "      <td>0.0</td>\n",
       "      <td>99999.0</td>\n",
       "      <td>21.784692</td>\n",
       "      <td>1.0</td>\n",
       "    </tr>\n",
       "    <tr>\n",
       "      <th>Young adult high income</th>\n",
       "      <td>30.0</td>\n",
       "      <td>10.297352</td>\n",
       "      <td>0.0</td>\n",
       "      <td>99999.0</td>\n",
       "      <td>331.861386</td>\n",
       "      <td>1.0</td>\n",
       "    </tr>\n",
       "    <tr>\n",
       "      <th>Young adult low income</th>\n",
       "      <td>30.0</td>\n",
       "      <td>10.927653</td>\n",
       "      <td>0.0</td>\n",
       "      <td>14900.0</td>\n",
       "      <td>7.598336</td>\n",
       "      <td>1.0</td>\n",
       "    </tr>\n",
       "    <tr>\n",
       "      <th>Young adult middle class</th>\n",
       "      <td>30.0</td>\n",
       "      <td>10.768927</td>\n",
       "      <td>0.0</td>\n",
       "      <td>99999.0</td>\n",
       "      <td>10.073120</td>\n",
       "      <td>1.0</td>\n",
       "    </tr>\n",
       "    <tr>\n",
       "      <th>Young single parent high income</th>\n",
       "      <td>30.0</td>\n",
       "      <td>9.178224</td>\n",
       "      <td>0.0</td>\n",
       "      <td>99999.0</td>\n",
       "      <td>198.056703</td>\n",
       "      <td>1.0</td>\n",
       "    </tr>\n",
       "    <tr>\n",
       "      <th>Young single parent low income</th>\n",
       "      <td>30.0</td>\n",
       "      <td>10.930993</td>\n",
       "      <td>0.0</td>\n",
       "      <td>25.0</td>\n",
       "      <td>7.597856</td>\n",
       "      <td>1.0</td>\n",
       "    </tr>\n",
       "    <tr>\n",
       "      <th>Young single parent middle class</th>\n",
       "      <td>30.0</td>\n",
       "      <td>10.637390</td>\n",
       "      <td>0.0</td>\n",
       "      <td>99999.0</td>\n",
       "      <td>9.461539</td>\n",
       "      <td>1.0</td>\n",
       "    </tr>\n",
       "  </tbody>\n",
       "</table>\n",
       "</div>"
      ],
      "text/plain": [
       "                                 days_since_prior_order                  \\\n",
       "                                                    max       mean  min   \n",
       "income_profile                                                            \n",
       "Elderly adult high income                          30.0  10.695695  0.0   \n",
       "Elderly adult low income                           30.0  11.184257  0.0   \n",
       "Elderly adult middle class                         30.0  10.765040  0.0   \n",
       "Middle-aged adult low income                       30.0  10.909726  0.0   \n",
       "Middle-aged adult middle class                     30.0  10.770507  0.0   \n",
       "Middle-aged high income                            30.0  10.831837  0.0   \n",
       "Young adult high income                            30.0  10.297352  0.0   \n",
       "Young adult low income                             30.0  10.927653  0.0   \n",
       "Young adult middle class                           30.0  10.768927  0.0   \n",
       "Young single parent high income                    30.0   9.178224  0.0   \n",
       "Young single parent low income                     30.0  10.930993  0.0   \n",
       "Young single parent middle class                   30.0  10.637390  0.0   \n",
       "\n",
       "                                   prices                   \n",
       "                                      max        mean  min  \n",
       "income_profile                                              \n",
       "Elderly adult high income         99999.0   17.358909  1.0  \n",
       "Elderly adult low income             25.0    6.715031  1.0  \n",
       "Elderly adult middle class        99999.0    8.774497  1.0  \n",
       "Middle-aged adult low income      14900.0    7.309493  1.0  \n",
       "Middle-aged adult middle class    99999.0    9.232977  1.0  \n",
       "Middle-aged high income           99999.0   21.784692  1.0  \n",
       "Young adult high income           99999.0  331.861386  1.0  \n",
       "Young adult low income            14900.0    7.598336  1.0  \n",
       "Young adult middle class          99999.0   10.073120  1.0  \n",
       "Young single parent high income   99999.0  198.056703  1.0  \n",
       "Young single parent low income       25.0    7.597856  1.0  \n",
       "Young single parent middle class  99999.0    9.461539  1.0  "
      ]
     },
     "execution_count": 50,
     "metadata": {},
     "output_type": "execute_result"
    }
   ],
   "source": [
    "#Aggregating max, mean, and min\n",
    "customers_agg = customers_normal.groupby('income_profile')[['days_since_prior_order', 'prices']].agg(['max', 'mean', 'min'])\n",
    "customers_agg.head(15)"
   ]
  },
  {
   "cell_type": "markdown",
   "id": "fa257c61-6e29-4baa-b804-eba73dce231c",
   "metadata": {},
   "source": [
    "## While they only make up a small percentage of the customer base, high income young adults tend to purchase expensive products, regardless of their family size. It is also worth nothing that older customers that are also high income tend to have higher prices, but on average purchase cheaper goods."
   ]
  },
  {
   "cell_type": "code",
   "execution_count": 53,
   "id": "cb949ad1-b33f-4f05-9f11-c3a341b9233e",
   "metadata": {},
   "outputs": [
    {
     "data": {
      "text/html": [
       "<div>\n",
       "<style scoped>\n",
       "    .dataframe tbody tr th:only-of-type {\n",
       "        vertical-align: middle;\n",
       "    }\n",
       "\n",
       "    .dataframe tbody tr th {\n",
       "        vertical-align: top;\n",
       "    }\n",
       "\n",
       "    .dataframe thead th {\n",
       "        text-align: right;\n",
       "    }\n",
       "</style>\n",
       "<table border=\"1\" class=\"dataframe\">\n",
       "  <thead>\n",
       "    <tr style=\"text-align: right;\">\n",
       "      <th>region</th>\n",
       "      <th>Midwest</th>\n",
       "      <th>Northeast</th>\n",
       "      <th>South</th>\n",
       "      <th>West</th>\n",
       "    </tr>\n",
       "    <tr>\n",
       "      <th>income_profile</th>\n",
       "      <th></th>\n",
       "      <th></th>\n",
       "      <th></th>\n",
       "      <th></th>\n",
       "    </tr>\n",
       "  </thead>\n",
       "  <tbody>\n",
       "    <tr>\n",
       "      <th>Elderly adult high income</th>\n",
       "      <td>907528</td>\n",
       "      <td>700306</td>\n",
       "      <td>1290439</td>\n",
       "      <td>983941</td>\n",
       "    </tr>\n",
       "    <tr>\n",
       "      <th>Elderly adult low income</th>\n",
       "      <td>297603</td>\n",
       "      <td>236133</td>\n",
       "      <td>432741</td>\n",
       "      <td>329304</td>\n",
       "    </tr>\n",
       "    <tr>\n",
       "      <th>Elderly adult middle class</th>\n",
       "      <td>1151639</td>\n",
       "      <td>872574</td>\n",
       "      <td>1638049</td>\n",
       "      <td>1272350</td>\n",
       "    </tr>\n",
       "    <tr>\n",
       "      <th>Middle-aged adult low income</th>\n",
       "      <td>872498</td>\n",
       "      <td>668663</td>\n",
       "      <td>1263198</td>\n",
       "      <td>957512</td>\n",
       "    </tr>\n",
       "    <tr>\n",
       "      <th>Middle-aged adult middle class</th>\n",
       "      <td>1758633</td>\n",
       "      <td>1300145</td>\n",
       "      <td>2492353</td>\n",
       "      <td>1930457</td>\n",
       "    </tr>\n",
       "    <tr>\n",
       "      <th>Middle-aged high income</th>\n",
       "      <td>917774</td>\n",
       "      <td>662880</td>\n",
       "      <td>1233708</td>\n",
       "      <td>976533</td>\n",
       "    </tr>\n",
       "    <tr>\n",
       "      <th>Young adult high income</th>\n",
       "      <td>13124</td>\n",
       "      <td>8051</td>\n",
       "      <td>16625</td>\n",
       "      <td>12400</td>\n",
       "    </tr>\n",
       "    <tr>\n",
       "      <th>Young adult low income</th>\n",
       "      <td>464259</td>\n",
       "      <td>351479</td>\n",
       "      <td>671835</td>\n",
       "      <td>532086</td>\n",
       "    </tr>\n",
       "    <tr>\n",
       "      <th>Young adult middle class</th>\n",
       "      <td>527020</td>\n",
       "      <td>408024</td>\n",
       "      <td>766734</td>\n",
       "      <td>564794</td>\n",
       "    </tr>\n",
       "    <tr>\n",
       "      <th>Young single parent high income</th>\n",
       "      <td>3412</td>\n",
       "      <td>1601</td>\n",
       "      <td>8495</td>\n",
       "      <td>4274</td>\n",
       "    </tr>\n",
       "    <tr>\n",
       "      <th>Young single parent low income</th>\n",
       "      <td>156310</td>\n",
       "      <td>110799</td>\n",
       "      <td>225789</td>\n",
       "      <td>171139</td>\n",
       "    </tr>\n",
       "    <tr>\n",
       "      <th>Young single parent middle class</th>\n",
       "      <td>191713</td>\n",
       "      <td>144030</td>\n",
       "      <td>271173</td>\n",
       "      <td>192437</td>\n",
       "    </tr>\n",
       "  </tbody>\n",
       "</table>\n",
       "</div>"
      ],
      "text/plain": [
       "region                            Midwest  Northeast    South     West\n",
       "income_profile                                                        \n",
       "Elderly adult high income          907528     700306  1290439   983941\n",
       "Elderly adult low income           297603     236133   432741   329304\n",
       "Elderly adult middle class        1151639     872574  1638049  1272350\n",
       "Middle-aged adult low income       872498     668663  1263198   957512\n",
       "Middle-aged adult middle class    1758633    1300145  2492353  1930457\n",
       "Middle-aged high income            917774     662880  1233708   976533\n",
       "Young adult high income             13124       8051    16625    12400\n",
       "Young adult low income             464259     351479   671835   532086\n",
       "Young adult middle class           527020     408024   766734   564794\n",
       "Young single parent high income      3412       1601     8495     4274\n",
       "Young single parent low income     156310     110799   225789   171139\n",
       "Young single parent middle class   191713     144030   271173   192437"
      ]
     },
     "execution_count": 53,
     "metadata": {},
     "output_type": "execute_result"
    }
   ],
   "source": [
    "#Creating crosstab\n",
    "crosstab_profile_region = pd.crosstab(customers_normal['income_profile'], customers_normal['region'], dropna=False)\n",
    "crosstab_profile_region"
   ]
  },
  {
   "cell_type": "code",
   "execution_count": 56,
   "id": "efe0bbe2-d14e-4741-b8dd-470f16614859",
   "metadata": {},
   "outputs": [
    {
     "data": {
      "text/html": [
       "<div>\n",
       "<style scoped>\n",
       "    .dataframe tbody tr th:only-of-type {\n",
       "        vertical-align: middle;\n",
       "    }\n",
       "\n",
       "    .dataframe tbody tr th {\n",
       "        vertical-align: top;\n",
       "    }\n",
       "\n",
       "    .dataframe thead th {\n",
       "        text-align: right;\n",
       "    }\n",
       "</style>\n",
       "<table border=\"1\" class=\"dataframe\">\n",
       "  <thead>\n",
       "    <tr style=\"text-align: right;\">\n",
       "      <th>region</th>\n",
       "      <th>Midwest</th>\n",
       "      <th>Northeast</th>\n",
       "      <th>South</th>\n",
       "      <th>West</th>\n",
       "    </tr>\n",
       "    <tr>\n",
       "      <th>income_profile</th>\n",
       "      <th></th>\n",
       "      <th></th>\n",
       "      <th></th>\n",
       "      <th></th>\n",
       "    </tr>\n",
       "  </thead>\n",
       "  <tbody>\n",
       "    <tr>\n",
       "      <th>Middle-aged adult middle class</th>\n",
       "      <td>1758633</td>\n",
       "      <td>1300145</td>\n",
       "      <td>2492353</td>\n",
       "      <td>1930457</td>\n",
       "    </tr>\n",
       "    <tr>\n",
       "      <th>Elderly adult middle class</th>\n",
       "      <td>1151639</td>\n",
       "      <td>872574</td>\n",
       "      <td>1638049</td>\n",
       "      <td>1272350</td>\n",
       "    </tr>\n",
       "    <tr>\n",
       "      <th>Middle-aged high income</th>\n",
       "      <td>917774</td>\n",
       "      <td>662880</td>\n",
       "      <td>1233708</td>\n",
       "      <td>976533</td>\n",
       "    </tr>\n",
       "    <tr>\n",
       "      <th>Elderly adult high income</th>\n",
       "      <td>907528</td>\n",
       "      <td>700306</td>\n",
       "      <td>1290439</td>\n",
       "      <td>983941</td>\n",
       "    </tr>\n",
       "    <tr>\n",
       "      <th>Middle-aged adult low income</th>\n",
       "      <td>872498</td>\n",
       "      <td>668663</td>\n",
       "      <td>1263198</td>\n",
       "      <td>957512</td>\n",
       "    </tr>\n",
       "    <tr>\n",
       "      <th>Young adult middle class</th>\n",
       "      <td>527020</td>\n",
       "      <td>408024</td>\n",
       "      <td>766734</td>\n",
       "      <td>564794</td>\n",
       "    </tr>\n",
       "    <tr>\n",
       "      <th>Young adult low income</th>\n",
       "      <td>464259</td>\n",
       "      <td>351479</td>\n",
       "      <td>671835</td>\n",
       "      <td>532086</td>\n",
       "    </tr>\n",
       "    <tr>\n",
       "      <th>Elderly adult low income</th>\n",
       "      <td>297603</td>\n",
       "      <td>236133</td>\n",
       "      <td>432741</td>\n",
       "      <td>329304</td>\n",
       "    </tr>\n",
       "    <tr>\n",
       "      <th>Young single parent middle class</th>\n",
       "      <td>191713</td>\n",
       "      <td>144030</td>\n",
       "      <td>271173</td>\n",
       "      <td>192437</td>\n",
       "    </tr>\n",
       "    <tr>\n",
       "      <th>Young single parent low income</th>\n",
       "      <td>156310</td>\n",
       "      <td>110799</td>\n",
       "      <td>225789</td>\n",
       "      <td>171139</td>\n",
       "    </tr>\n",
       "    <tr>\n",
       "      <th>Young adult high income</th>\n",
       "      <td>13124</td>\n",
       "      <td>8051</td>\n",
       "      <td>16625</td>\n",
       "      <td>12400</td>\n",
       "    </tr>\n",
       "    <tr>\n",
       "      <th>Young single parent high income</th>\n",
       "      <td>3412</td>\n",
       "      <td>1601</td>\n",
       "      <td>8495</td>\n",
       "      <td>4274</td>\n",
       "    </tr>\n",
       "  </tbody>\n",
       "</table>\n",
       "</div>"
      ],
      "text/plain": [
       "region                            Midwest  Northeast    South     West\n",
       "income_profile                                                        \n",
       "Middle-aged adult middle class    1758633    1300145  2492353  1930457\n",
       "Elderly adult middle class        1151639     872574  1638049  1272350\n",
       "Middle-aged high income            917774     662880  1233708   976533\n",
       "Elderly adult high income          907528     700306  1290439   983941\n",
       "Middle-aged adult low income       872498     668663  1263198   957512\n",
       "Young adult middle class           527020     408024   766734   564794\n",
       "Young adult low income             464259     351479   671835   532086\n",
       "Elderly adult low income           297603     236133   432741   329304\n",
       "Young single parent middle class   191713     144030   271173   192437\n",
       "Young single parent low income     156310     110799   225789   171139\n",
       "Young adult high income             13124       8051    16625    12400\n",
       "Young single parent high income      3412       1601     8495     4274"
      ]
     },
     "execution_count": 56,
     "metadata": {},
     "output_type": "execute_result"
    }
   ],
   "source": [
    "#Sorting crosstab\n",
    "crosstab_profile_region.sort_values(by='Midwest', ascending=False)"
   ]
  },
  {
   "cell_type": "code",
   "execution_count": 58,
   "id": "6c6e9d5e-02a6-4e32-9615-ed779a920aa9",
   "metadata": {},
   "outputs": [
    {
     "data": {
      "image/png": "[encoded data removed]",
      "text/plain": [
       "<Figure size 640x480 with 1 Axes>"
      ]
     },
     "metadata": {},
     "output_type": "display_data"
    }
   ],
   "source": [
    "#Creating a stacked bar\n",
    "cross_bar_stacked = crosstab_profile_region.plot(kind='bar', stacked=True)"
   ]
  },
  {
   "cell_type": "code",
   "execution_count": 59,
   "id": "29fddd2e-f1a4-4bd2-9650-645d6cc18f78",
   "metadata": {},
   "outputs": [],
   "source": [
    "#Exporting charts\n",
    "customer_bar.figure.savefig(os.path.join(path, '04 Analysis', 'Visualizations', 'customer_profile_bar_chart.png'))\n",
    "cross_bar_stacked.figure.savefig(os.path.join(path, '04 Analysis', 'Visualizations', 'customer_region_stacked_bar.png'))"
   ]
  },
  {
   "cell_type": "code",
   "execution_count": 61,
   "id": "808ff405-b39c-46b0-9394-6a9bdfe6f80b",
   "metadata": {},
   "outputs": [],
   "source": [
    "#Exporting final data set\n",
    "customers_normal.to_pickle(os.path.join(path, '02 Data', 'Prepared Data', 'customer_final.pkl'))"
   ]
  }
 ],
 "metadata": {
  "kernelspec": {
   "display_name": "Python 3 (ipykernel)",
   "language": "python",
   "name": "python3"
  },
  "language_info": {
   "codemirror_mode": {
    "name": "ipython",
    "version": 3
   },
   "file_extension": ".py",
   "mimetype": "text/x-python",
   "name": "python",
   "nbconvert_exporter": "python",
   "pygments_lexer": "ipython3",
   "version": "3.11.7"
  }
 },
 "nbformat": 4,
 "nbformat_minor": 5
}
